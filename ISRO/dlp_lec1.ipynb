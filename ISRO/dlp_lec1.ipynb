{
 "cells": [
  {
   "cell_type": "markdown",
   "metadata": {
    "id": "dn67mj6lQKWS"
   },
   "source": [
    "# **Python Basics**\n",
    "**Values**\n",
    "\n",
    "*   A value is the fundamental thing that a program manipulates\n",
    "*   Values can be ‘Hello Python’, 1 , True\n",
    "Values have types. "
   ]
  },
  {
   "cell_type": "markdown",
   "metadata": {
    "id": "6Lz9f6OkSWgP"
   },
   "source": [
    "# **Variable**\n",
    "1.   One of the most basic and powerful concepts is \n",
    "that of a variable.\n",
    "2.   A variable assigns a name to a value.\n",
    "Variables are nothing more than reserved memory locations that store values.\n",
    "3. Python variables does not need explicit declaration to reserve memory. \n",
    "4.Unlike C/C++ and Java, variables can change types\n"
   ]
  },
  {
   "cell_type": "code",
   "execution_count": 1,
   "metadata": {
    "id": "HAFYqNsLRYBg"
   },
   "outputs": [],
   "source": [
    "message = 'Hello Python!'"
   ]
  },
  {
   "cell_type": "code",
   "execution_count": 2,
   "metadata": {
    "id": "_LNKfzn7Qmk6"
   },
   "outputs": [],
   "source": [
    "n = 10"
   ]
  },
  {
   "cell_type": "code",
   "execution_count": 3,
   "metadata": {
    "id": "9xZtB-n_RpBQ"
   },
   "outputs": [],
   "source": [
    "e = 2.71"
   ]
  },
  {
   "cell_type": "code",
   "execution_count": 4,
   "metadata": {
    "colab": {
     "base_uri": "https://localhost:8080/"
    },
    "id": "eY6oeG7wRry3",
    "outputId": "d7e2ee79-2da0-4ef9-a185-fd1ba0f5b9d9"
   },
   "outputs": [
    {
     "name": "stdout",
     "output_type": "stream",
     "text": [
      "Hello Python!\n"
     ]
    }
   ],
   "source": [
    "print(message)"
   ]
  },
  {
   "cell_type": "code",
   "execution_count": 5,
   "metadata": {
    "colab": {
     "base_uri": "https://localhost:8080/"
    },
    "id": "Pxtjr-yIRwT3",
    "outputId": "43fe2a51-3614-4981-a81f-cc219785448d"
   },
   "outputs": [
    {
     "name": "stdout",
     "output_type": "stream",
     "text": [
      "Hello Python! n== 10 e== 2.71\n"
     ]
    }
   ],
   "source": [
    "print(message, 'n==', n, 'e==', e)"
   ]
  },
  {
   "cell_type": "markdown",
   "metadata": {
    "id": "KBzzvVy7SUsn"
   },
   "source": [
    "# **Modules**\n",
    "\n",
    "\n",
    "1.   module is a file containing Python definitions and statements\n",
    "2.   not all functionality available comes automatically when starting Python\n",
    "1.   extra functionality can be added by importing modules\n",
    "1.   objects in the module can be accessed  by prefixing them with the module name\n"
   ]
  },
  {
   "cell_type": "code",
   "execution_count": 6,
   "metadata": {
    "id": "8NClhVnOUXB4"
   },
   "outputs": [],
   "source": [
    "import math"
   ]
  },
  {
   "cell_type": "code",
   "execution_count": 7,
   "metadata": {
    "colab": {
     "base_uri": "https://localhost:8080/"
    },
    "id": "VYYszojTUcja",
    "outputId": "eaef3934-8a22-4a63-80d6-c054467a6fc1"
   },
   "outputs": [
    {
     "data": {
      "text/plain": [
       "8.0"
      ]
     },
     "execution_count": 7,
     "metadata": {
      "tags": []
     },
     "output_type": "execute_result"
    }
   ],
   "source": [
    "math.pow(2, 3)"
   ]
  },
  {
   "cell_type": "code",
   "execution_count": 8,
   "metadata": {
    "id": "dw1CrEkKUhsQ"
   },
   "outputs": [],
   "source": [
    "import random"
   ]
  },
  {
   "cell_type": "code",
   "execution_count": 18,
   "metadata": {
    "colab": {
     "base_uri": "https://localhost:8080/"
    },
    "id": "nv8eGoDlUkU0",
    "outputId": "aeb222ac-6330-48d1-f580-d9e35e12fe9f"
   },
   "outputs": [
    {
     "data": {
      "text/plain": [
       "10"
      ]
     },
     "execution_count": 18,
     "metadata": {
      "tags": []
     },
     "output_type": "execute_result"
    }
   ],
   "source": [
    "random.randint(1, 100)"
   ]
  },
  {
   "cell_type": "code",
   "execution_count": 1,
   "metadata": {},
   "outputs": [],
   "source": [
    "from pathlib import Path"
   ]
  },
  {
   "cell_type": "markdown",
   "metadata": {
    "id": "hPbJ2ARkVG5s"
   },
   "source": [
    "Comments Start with a `#`"
   ]
  },
  {
   "cell_type": "code",
   "execution_count": 19,
   "metadata": {
    "id": "EPgCjpj7VSTW"
   },
   "outputs": [],
   "source": [
    "# This is a comment"
   ]
  },
  {
   "cell_type": "markdown",
   "metadata": {
    "id": "WtM-m8QYgxdo"
   },
   "source": [
    "**Putting All things together**\n",
    "\n",
    "---\n",
    "\n",
    "\n",
    "Now we will write a program to calculate Simple Intrest"
   ]
  },
  {
   "cell_type": "code",
   "execution_count": null,
   "metadata": {
    "id": "RcwbGI4VgyqL"
   },
   "outputs": [],
   "source": [
    "rate = 10 "
   ]
  },
  {
   "cell_type": "code",
   "execution_count": null,
   "metadata": {
    "id": "rV3JEeWOg-jS"
   },
   "outputs": [],
   "source": [
    "principle = 1000"
   ]
  },
  {
   "cell_type": "code",
   "execution_count": null,
   "metadata": {
    "id": "JstjzE2Mg-l6"
   },
   "outputs": [],
   "source": [
    "time = 3"
   ]
  },
  {
   "cell_type": "code",
   "execution_count": 76,
   "metadata": {
    "id": "6vjVhnsqgzV2"
   },
   "outputs": [],
   "source": [
    "intrest = (rate * principle * time)/100"
   ]
  },
  {
   "cell_type": "code",
   "execution_count": 77,
   "metadata": {
    "colab": {
     "base_uri": "https://localhost:8080/"
    },
    "id": "LO_i2T1hgzdy",
    "outputId": "efc95a88-a740-4e87-950c-7b8e2bebdc29"
   },
   "outputs": [
    {
     "name": "stdout",
     "output_type": "stream",
     "text": [
      "Intrest is  200.0\n"
     ]
    }
   ],
   "source": [
    "print('Intrest is ', intrest)"
   ]
  },
  {
   "cell_type": "markdown",
   "metadata": {
    "id": "W4YM8PkmVnM9"
   },
   "source": [
    "# **Data Types**\n",
    "\n",
    "\n",
    "### 1.   Numeric Types\n",
    "\n",
    "\n",
    "*   Integer Types: 92, 12, 0, 1\n",
    "*   Floats (Floating point numbers): 3.1415\n",
    "*   Complex Numbers: a + b*i (composed of real and imaginary component, both of which are floats a + b*i)\n",
    "*   Booleans: True/False are a subtype of integers (0 is false, 1 is true)\n",
    "\n",
    "2.   Strings\n",
    "*   ‘Hello Python’\n",
    "*  'India'\n",
    "\n",
    "3.  Sequence types:\n",
    "\n",
    "\n",
    "*   Lists : [1,2,3,4,5]\n",
    "*   Tuples: (1, 2)\n",
    "*   Ranges: "
   ]
  },
  {
   "cell_type": "markdown",
   "metadata": {
    "id": "rrx9xpuzXK7q"
   },
   "source": [
    "# **Indentation**\n",
    "1.  In Python, blocks of code are defined using indentation\n",
    "1.  The indentation within the block needs to be consistent\n",
    "1.  The first line with less indentation is outside of the block\n",
    "1.  The first line with more indentation starts a nested block\n",
    "1.  Often a colon appears at the start of a new block"
   ]
  },
  {
   "cell_type": "code",
   "execution_count": 26,
   "metadata": {
    "colab": {
     "base_uri": "https://localhost:8080/"
    },
    "id": "d4PWpHHHXDhK",
    "outputId": "763cf43e-0c3b-4d48-acdd-45f1e32164bd"
   },
   "outputs": [
    {
     "name": "stdout",
     "output_type": "stream",
     "text": [
      "x is less than 10\n",
      "Hello\n",
      "Outside the If\n"
     ]
    }
   ],
   "source": [
    "x = 9\n",
    "if x<10:\n",
    "    print('x is less than 10')\n",
    "    print('Hello')\n",
    "print('Outside the If')"
   ]
  },
  {
   "cell_type": "markdown",
   "metadata": {
    "id": "M8HNmISRXyw_"
   },
   "source": [
    "# **Strings**\n",
    "\n",
    "*   Strings are text values like ‘Hello Anaconda’\n",
    "*   Strings can be enclosed in single quote ‘ ..’ or double quotes “…”\n",
    "\n"
   ]
  },
  {
   "cell_type": "code",
   "execution_count": 28,
   "metadata": {
    "colab": {
     "base_uri": "https://localhost:8080/",
     "height": 36
    },
    "id": "boX4jVIIZ0S5",
    "outputId": "e475e691-62e8-4bf5-a256-d71c6bc0060e"
   },
   "outputs": [
    {
     "data": {
      "application/vnd.google.colaboratory.intrinsic+json": {
       "type": "string"
      },
      "text/plain": [
       "'spam eggs'"
      ]
     },
     "execution_count": 28,
     "metadata": {
      "tags": []
     },
     "output_type": "execute_result"
    }
   ],
   "source": [
    "'spam eggs' "
   ]
  },
  {
   "cell_type": "code",
   "execution_count": 33,
   "metadata": {
    "colab": {
     "base_uri": "https://localhost:8080/",
     "height": 36
    },
    "id": "NL4omuwqZ5zE",
    "outputId": "437c4b04-59a9-4fac-a8f9-c63c8509d202"
   },
   "outputs": [
    {
     "data": {
      "application/vnd.google.colaboratory.intrinsic+json": {
       "type": "string"
      },
      "text/plain": [
       "\"doesn't\""
      ]
     },
     "execution_count": 33,
     "metadata": {
      "tags": []
     },
     "output_type": "execute_result"
    }
   ],
   "source": [
    "'doesn\\'t'  # use \\' to escape the single quote..."
   ]
  },
  {
   "cell_type": "code",
   "execution_count": 31,
   "metadata": {
    "colab": {
     "base_uri": "https://localhost:8080/",
     "height": 36
    },
    "id": "4yDCzNilaSJT",
    "outputId": "548ca0f4-d399-430a-dc95-7d06b58a9d92"
   },
   "outputs": [
    {
     "data": {
      "application/vnd.google.colaboratory.intrinsic+json": {
       "type": "string"
      },
      "text/plain": [
       "\"doesn't\""
      ]
     },
     "execution_count": 31,
     "metadata": {
      "tags": []
     },
     "output_type": "execute_result"
    }
   ],
   "source": [
    "\"doesn't\"  # ...or use double quotes instead"
   ]
  },
  {
   "cell_type": "code",
   "execution_count": 34,
   "metadata": {
    "colab": {
     "base_uri": "https://localhost:8080/"
    },
    "id": "YxFIgP-Tak0p",
    "outputId": "13ab50dd-11e0-4af4-f934-f4a94164e704"
   },
   "outputs": [
    {
     "name": "stdout",
     "output_type": "stream",
     "text": [
      "Usage: thingy [OPTIONS]\n",
      "     -h                        Display this usage message\n",
      "     -H hostname               Hostname to connect to\n",
      "\n"
     ]
    }
   ],
   "source": [
    "print(\"\"\"\\\n",
    "Usage: thingy [OPTIONS]\n",
    "     -h                        Display this usage message\n",
    "     -H hostname               Hostname to connect to\n",
    "\"\"\")"
   ]
  },
  {
   "cell_type": "code",
   "execution_count": 35,
   "metadata": {
    "colab": {
     "base_uri": "https://localhost:8080/",
     "height": 36
    },
    "id": "-opmnFLtao5g",
    "outputId": "8725dcc5-5ba8-4e05-d2f8-910fb29b017b"
   },
   "outputs": [
    {
     "data": {
      "application/vnd.google.colaboratory.intrinsic+json": {
       "type": "string"
      },
      "text/plain": [
       "'unununium'"
      ]
     },
     "execution_count": 35,
     "metadata": {
      "tags": []
     },
     "output_type": "execute_result"
    }
   ],
   "source": [
    "3 * 'un' + 'ium'"
   ]
  },
  {
   "cell_type": "markdown",
   "metadata": {
    "id": "IhwgUPTca3ul"
   },
   "source": [
    "Strings can be *indexed* (subscripted), with the first character having index 0."
   ]
  },
  {
   "cell_type": "code",
   "execution_count": 36,
   "metadata": {
    "id": "b75FJ4YzbCng"
   },
   "outputs": [],
   "source": [
    " word = 'Python'"
   ]
  },
  {
   "cell_type": "code",
   "execution_count": 37,
   "metadata": {
    "colab": {
     "base_uri": "https://localhost:8080/",
     "height": 36
    },
    "id": "URMkod3zbECa",
    "outputId": "f7698bda-3b64-49ca-e0ea-b6e86e748a66"
   },
   "outputs": [
    {
     "data": {
      "application/vnd.google.colaboratory.intrinsic+json": {
       "type": "string"
      },
      "text/plain": [
       "'P'"
      ]
     },
     "execution_count": 37,
     "metadata": {
      "tags": []
     },
     "output_type": "execute_result"
    }
   ],
   "source": [
    "word[0]"
   ]
  },
  {
   "cell_type": "code",
   "execution_count": 38,
   "metadata": {
    "colab": {
     "base_uri": "https://localhost:8080/",
     "height": 36
    },
    "id": "yMkBTqHObMoH",
    "outputId": "5a3cff82-8014-4a77-8119-eb4066d881ad"
   },
   "outputs": [
    {
     "data": {
      "application/vnd.google.colaboratory.intrinsic+json": {
       "type": "string"
      },
      "text/plain": [
       "'n'"
      ]
     },
     "execution_count": 38,
     "metadata": {
      "tags": []
     },
     "output_type": "execute_result"
    }
   ],
   "source": [
    "word[5]"
   ]
  },
  {
   "cell_type": "markdown",
   "metadata": {
    "id": "hW2FQjJ7bPwF"
   },
   "source": [
    "indices may also be negative numbers, to start counting from the right. "
   ]
  },
  {
   "cell_type": "code",
   "execution_count": 39,
   "metadata": {
    "colab": {
     "base_uri": "https://localhost:8080/",
     "height": 36
    },
    "id": "PAXMPH3MbZd5",
    "outputId": "dc75d588-817e-4585-dd18-9de0429bb992"
   },
   "outputs": [
    {
     "data": {
      "application/vnd.google.colaboratory.intrinsic+json": {
       "type": "string"
      },
      "text/plain": [
       "'n'"
      ]
     },
     "execution_count": 39,
     "metadata": {
      "tags": []
     },
     "output_type": "execute_result"
    }
   ],
   "source": [
    "word[-1]  # last character"
   ]
  },
  {
   "cell_type": "code",
   "execution_count": 40,
   "metadata": {
    "colab": {
     "base_uri": "https://localhost:8080/",
     "height": 36
    },
    "id": "P4EsGGAxbcmB",
    "outputId": "d3293f7f-de65-494a-8e9e-892227e8ffc7"
   },
   "outputs": [
    {
     "data": {
      "application/vnd.google.colaboratory.intrinsic+json": {
       "type": "string"
      },
      "text/plain": [
       "'o'"
      ]
     },
     "execution_count": 40,
     "metadata": {
      "tags": []
     },
     "output_type": "execute_result"
    }
   ],
   "source": [
    "word[-2]  # second-last character"
   ]
  },
  {
   "cell_type": "markdown",
   "metadata": {
    "id": "kc8-b4hiblMZ"
   },
   "source": [
    "In addition to indexing, slicing is also supported. While indexing is used to obtain individual characters, slicing allows you to obtain substring:"
   ]
  },
  {
   "cell_type": "code",
   "execution_count": 41,
   "metadata": {
    "colab": {
     "base_uri": "https://localhost:8080/",
     "height": 36
    },
    "id": "F5uhEkZxb4Hv",
    "outputId": "d3ceeed4-1987-4765-ad7a-c2954fedd19e"
   },
   "outputs": [
    {
     "data": {
      "application/vnd.google.colaboratory.intrinsic+json": {
       "type": "string"
      },
      "text/plain": [
       "'Py'"
      ]
     },
     "execution_count": 41,
     "metadata": {
      "tags": []
     },
     "output_type": "execute_result"
    }
   ],
   "source": [
    " word[0:2]  # characters from position 0 (included) to 2 (excluded)"
   ]
  },
  {
   "cell_type": "code",
   "execution_count": 42,
   "metadata": {
    "colab": {
     "base_uri": "https://localhost:8080/",
     "height": 36
    },
    "id": "5fXQRT1Rb61_",
    "outputId": "dfd48216-eb09-4eab-bdb1-c489b7a398fb"
   },
   "outputs": [
    {
     "data": {
      "application/vnd.google.colaboratory.intrinsic+json": {
       "type": "string"
      },
      "text/plain": [
       "'tho'"
      ]
     },
     "execution_count": 42,
     "metadata": {
      "tags": []
     },
     "output_type": "execute_result"
    }
   ],
   "source": [
    "word[2:5]  # characters from position 2 (included) to 5 (excluded)"
   ]
  },
  {
   "cell_type": "code",
   "execution_count": 45,
   "metadata": {
    "id": "jTqtC6encKwX"
   },
   "outputs": [],
   "source": [
    "text = 'Put several strings within parentheses '+\\\n",
    "        'to have them joined together.'"
   ]
  },
  {
   "cell_type": "code",
   "execution_count": 46,
   "metadata": {
    "colab": {
     "base_uri": "https://localhost:8080/",
     "height": 36
    },
    "id": "WdeVRixGcQ2o",
    "outputId": "3cff821d-7396-4061-b7c6-4367b95a02e4"
   },
   "outputs": [
    {
     "data": {
      "application/vnd.google.colaboratory.intrinsic+json": {
       "type": "string"
      },
      "text/plain": [
       "'Put several strings within parentheses to have them joined together.'"
      ]
     },
     "execution_count": 46,
     "metadata": {
      "tags": []
     },
     "output_type": "execute_result"
    }
   ],
   "source": [
    "text"
   ]
  },
  {
   "cell_type": "markdown",
   "metadata": {
    "id": "I8RMdemlccBf"
   },
   "source": [
    "# **Lists**\n",
    "1.  ordered sequence of information, accessible by index\n",
    "1.  a list is denoted by square brackets, [ ]\n",
    "1.  a list contains usually homogenous elements \n",
    "1.  list elements can be changed so a list is mutable\n"
   ]
  },
  {
   "cell_type": "code",
   "execution_count": null,
   "metadata": {
    "id": "VdOamq8vc3ev"
   },
   "outputs": [],
   "source": [
    "squares = [1, 4, 9, 16, 25]"
   ]
  },
  {
   "cell_type": "code",
   "execution_count": null,
   "metadata": {
    "id": "_lwS_D2lc3vH"
   },
   "outputs": [],
   "source": [
    "squares"
   ]
  },
  {
   "cell_type": "code",
   "execution_count": null,
   "metadata": {
    "id": "U1u9M0M3c3xn"
   },
   "outputs": [],
   "source": [
    "squares[0]"
   ]
  },
  {
   "cell_type": "code",
   "execution_count": null,
   "metadata": {
    "id": "9gy31CZsc3zw"
   },
   "outputs": [],
   "source": [
    "squares[-1]"
   ]
  },
  {
   "cell_type": "code",
   "execution_count": null,
   "metadata": {
    "id": "lDyAMfkvc32I"
   },
   "outputs": [],
   "source": [
    "squares[-3:]"
   ]
  },
  {
   "cell_type": "code",
   "execution_count": null,
   "metadata": {
    "id": "m_r4P3Hsc-5H"
   },
   "outputs": [],
   "source": [
    "squares + [36, 49, 64, 81, 100]"
   ]
  },
  {
   "cell_type": "code",
   "execution_count": null,
   "metadata": {
    "id": "XCYM5UnXc-73"
   },
   "outputs": [],
   "source": [
    "cubes = [1, 8, 27, 65, 125]\n",
    "cubes"
   ]
  },
  {
   "cell_type": "markdown",
   "metadata": {
    "id": "EjaRl5FxdLOv"
   },
   "source": [
    "Unlike strings, which are immutable, lists are a mutable type, i.e. it is possible to change their content"
   ]
  },
  {
   "cell_type": "code",
   "execution_count": null,
   "metadata": {
    "id": "yZqZzSlbc--e"
   },
   "outputs": [],
   "source": [
    "cubes[3] = 64\n",
    "cubes"
   ]
  },
  {
   "cell_type": "markdown",
   "metadata": {
    "id": "QUpL_xGVdQe3"
   },
   "source": [
    "Assignment to slices is also possible, and this can even change the size of the list or clear it entirely"
   ]
  },
  {
   "cell_type": "code",
   "execution_count": 48,
   "metadata": {
    "id": "Tmv4c0gBdUiw"
   },
   "outputs": [],
   "source": [
    "letters = ['a', 'b', 'c', 'd', 'e', 'f', 'g']"
   ]
  },
  {
   "cell_type": "code",
   "execution_count": 49,
   "metadata": {
    "colab": {
     "base_uri": "https://localhost:8080/"
    },
    "id": "mgrgieLVdVpy",
    "outputId": "64249792-0f88-495b-fa94-2e6b16429bda"
   },
   "outputs": [
    {
     "data": {
      "text/plain": [
       "['a', 'b', 'C', 'D', 'E', 'f', 'g']"
      ]
     },
     "execution_count": 49,
     "metadata": {
      "tags": []
     },
     "output_type": "execute_result"
    }
   ],
   "source": [
    "letters[2:5] = ['C', 'D', 'E']\n",
    "letters"
   ]
  },
  {
   "cell_type": "code",
   "execution_count": 50,
   "metadata": {
    "colab": {
     "base_uri": "https://localhost:8080/"
    },
    "id": "4UFah6W7dY7n",
    "outputId": "35dcbf3e-f32e-4193-b7c2-dab88103556e"
   },
   "outputs": [
    {
     "data": {
      "text/plain": [
       "[]"
      ]
     },
     "execution_count": 50,
     "metadata": {
      "tags": []
     },
     "output_type": "execute_result"
    }
   ],
   "source": [
    "letters[:] = []\n",
    "letters"
   ]
  },
  {
   "cell_type": "markdown",
   "metadata": {
    "id": "R6fhpG5pdg-3"
   },
   "source": [
    "# **Tuple**\n",
    "1.  tuple consists of a number of values separated by commas\n",
    "1.  cannot change element values, immutable\n",
    "1.  tuples always enclosed in parenthesis  \n",
    "1.  used to return more than one value from a function\n"
   ]
  },
  {
   "cell_type": "code",
   "execution_count": 51,
   "metadata": {
    "id": "Xix0bfvvd5aX"
   },
   "outputs": [],
   "source": [
    "t = 12345, 54321, 'hello!'"
   ]
  },
  {
   "cell_type": "code",
   "execution_count": 52,
   "metadata": {
    "colab": {
     "base_uri": "https://localhost:8080/"
    },
    "id": "uzzkk45jd6c_",
    "outputId": "b0442673-2f8f-402c-871e-12fe15c92d51"
   },
   "outputs": [
    {
     "data": {
      "text/plain": [
       "12345"
      ]
     },
     "execution_count": 52,
     "metadata": {
      "tags": []
     },
     "output_type": "execute_result"
    }
   ],
   "source": [
    "t[0]"
   ]
  },
  {
   "cell_type": "code",
   "execution_count": 53,
   "metadata": {
    "id": "vt8EPmhld6fj"
   },
   "outputs": [],
   "source": [
    "u = t, (1, 2, 3, 4, 5) # Tuples may be nested:"
   ]
  },
  {
   "cell_type": "code",
   "execution_count": 54,
   "metadata": {
    "colab": {
     "base_uri": "https://localhost:8080/"
    },
    "id": "ZfODh697d6iW",
    "outputId": "e084e076-13ed-460b-c35f-894f81d1e686"
   },
   "outputs": [
    {
     "data": {
      "text/plain": [
       "((12345, 54321, 'hello!'), (1, 2, 3, 4, 5))"
      ]
     },
     "execution_count": 54,
     "metadata": {
      "tags": []
     },
     "output_type": "execute_result"
    }
   ],
   "source": [
    "u"
   ]
  },
  {
   "cell_type": "code",
   "execution_count": null,
   "metadata": {
    "id": "sDA1ZSu1eCiv"
   },
   "outputs": [],
   "source": [
    "t[0] = 88888 # Tuples are immutable:"
   ]
  },
  {
   "cell_type": "code",
   "execution_count": 55,
   "metadata": {
    "colab": {
     "base_uri": "https://localhost:8080/"
    },
    "id": "1VLxENW7eCue",
    "outputId": "61cfaa8c-71c0-4f5c-dd46-97e605745097"
   },
   "outputs": [
    {
     "name": "stdout",
     "output_type": "stream",
     "text": [
      "12345\n",
      "54321\n",
      "hello!\n"
     ]
    }
   ],
   "source": [
    "x, y, z = t\n",
    "print(x)\n",
    "print(y)\n",
    "print(z)"
   ]
  },
  {
   "cell_type": "code",
   "execution_count": null,
   "metadata": {
    "id": "0fMeP0EKeIeX"
   },
   "outputs": [],
   "source": []
  },
  {
   "cell_type": "markdown",
   "metadata": {
    "id": "Vh9wHyZveI-P"
   },
   "source": [
    "# **Sets**\n",
    "1.  A set is an unordered collection with no duplicate elements\n",
    "1.  set objects also support mathematical operations like union, intersection, difference, and symmetric difference\n"
   ]
  },
  {
   "cell_type": "code",
   "execution_count": 57,
   "metadata": {
    "id": "C9jee1kyeVOo"
   },
   "outputs": [],
   "source": [
    "basket = {'apple', 'orange', 'apple', 'pear', 'orange', 'banana'}"
   ]
  },
  {
   "cell_type": "code",
   "execution_count": 58,
   "metadata": {
    "colab": {
     "base_uri": "https://localhost:8080/"
    },
    "id": "ZTvM50MbeXqP",
    "outputId": "ee44cdb2-9202-4259-b93a-da5c5a0acb2f"
   },
   "outputs": [
    {
     "name": "stdout",
     "output_type": "stream",
     "text": [
      "{'banana', 'apple', 'pear', 'orange'}\n"
     ]
    }
   ],
   "source": [
    "print(basket)# show that duplicates have been removed"
   ]
  },
  {
   "cell_type": "code",
   "execution_count": 59,
   "metadata": {
    "colab": {
     "base_uri": "https://localhost:8080/"
    },
    "id": "NyNCo1sTeXw8",
    "outputId": "1d6b69fe-c688-4006-990c-936e6dd6dbeb"
   },
   "outputs": [
    {
     "data": {
      "text/plain": [
       "True"
      ]
     },
     "execution_count": 59,
     "metadata": {
      "tags": []
     },
     "output_type": "execute_result"
    }
   ],
   "source": [
    "'orange' in basket                 # fast membership testing"
   ]
  },
  {
   "cell_type": "code",
   "execution_count": 60,
   "metadata": {
    "colab": {
     "base_uri": "https://localhost:8080/"
    },
    "id": "v7c1GMO1eXzI",
    "outputId": "0edf1107-b5d3-4dc6-a593-e7f2916e96cc"
   },
   "outputs": [
    {
     "data": {
      "text/plain": [
       "False"
      ]
     },
     "execution_count": 60,
     "metadata": {
      "tags": []
     },
     "output_type": "execute_result"
    }
   ],
   "source": [
    "'crabgrass' in basket"
   ]
  },
  {
   "cell_type": "code",
   "execution_count": 61,
   "metadata": {
    "id": "6nGkzukqeX1W"
   },
   "outputs": [],
   "source": [
    "a = set('abracadabra')\n",
    "b = set('alacazam')"
   ]
  },
  {
   "cell_type": "code",
   "execution_count": 62,
   "metadata": {
    "colab": {
     "base_uri": "https://localhost:8080/"
    },
    "id": "i8bFAaDnei9H",
    "outputId": "3dd93af3-fed4-4165-9775-b9e15369afc2"
   },
   "outputs": [
    {
     "data": {
      "text/plain": [
       "{'b', 'd', 'r'}"
      ]
     },
     "execution_count": 62,
     "metadata": {
      "tags": []
     },
     "output_type": "execute_result"
    }
   ],
   "source": [
    "a - b"
   ]
  },
  {
   "cell_type": "markdown",
   "metadata": {
    "id": "9r0QoM-ceoCN"
   },
   "source": [
    "# **Dictionary**\n",
    "1.  dictionary is a set of key:value pairs\n",
    "1.  dictionaries are indexed by keys, which can be any immutable type\n",
    "1.  dictionary stores a value with some key and extracts the value given the key"
   ]
  },
  {
   "cell_type": "code",
   "execution_count": 63,
   "metadata": {
    "colab": {
     "base_uri": "https://localhost:8080/"
    },
    "id": "toSCsARTe2ar",
    "outputId": "b5bf145e-f050-44da-e0ad-65cea0144afe"
   },
   "outputs": [
    {
     "data": {
      "text/plain": [
       "{'alpha': 1099, 'beta': 1000, 'jack': 4098, 'sape': 4139}"
      ]
     },
     "execution_count": 63,
     "metadata": {
      "tags": []
     },
     "output_type": "execute_result"
    }
   ],
   "source": [
    "telephone = {'jack': 4098, 'sape': 4139,'alpha':1099,'beta':1000}\n",
    "telephone"
   ]
  },
  {
   "cell_type": "code",
   "execution_count": 64,
   "metadata": {
    "colab": {
     "base_uri": "https://localhost:8080/"
    },
    "id": "mMEJKK86fDxy",
    "outputId": "904bbc4e-c4ee-4c0f-dee8-21b958a479b6"
   },
   "outputs": [
    {
     "data": {
      "text/plain": [
       "4098"
      ]
     },
     "execution_count": 64,
     "metadata": {
      "tags": []
     },
     "output_type": "execute_result"
    }
   ],
   "source": [
    "telephone['jack']"
   ]
  },
  {
   "cell_type": "code",
   "execution_count": 65,
   "metadata": {
    "colab": {
     "base_uri": "https://localhost:8080/"
    },
    "id": "tRW2pQcEfHom",
    "outputId": "ea3554fb-73ae-44a8-fcbb-66ec8bfec9f0"
   },
   "outputs": [
    {
     "data": {
      "text/plain": [
       "{'alpha': 1099, 'beta': 1000, 'jack': 4098, 'king': 4127, 'sape': 4139}"
      ]
     },
     "execution_count": 65,
     "metadata": {
      "tags": []
     },
     "output_type": "execute_result"
    }
   ],
   "source": [
    "telephone['king'] = 4127\n",
    "telephone"
   ]
  },
  {
   "cell_type": "code",
   "execution_count": 66,
   "metadata": {
    "id": "liQ3l3lJfJvd"
   },
   "outputs": [],
   "source": [
    "del telephone['sape']"
   ]
  },
  {
   "cell_type": "code",
   "execution_count": 67,
   "metadata": {
    "colab": {
     "base_uri": "https://localhost:8080/"
    },
    "id": "gwKaA1oSfNkL",
    "outputId": "b4ec68d8-c4a7-4f45-c4ae-21fcfbc0f5de"
   },
   "outputs": [
    {
     "data": {
      "text/plain": [
       "True"
      ]
     },
     "execution_count": 67,
     "metadata": {
      "tags": []
     },
     "output_type": "execute_result"
    }
   ],
   "source": [
    "'king' in telephone"
   ]
  },
  {
   "cell_type": "markdown",
   "metadata": {
    "id": "cNG4j4-Vhamr"
   },
   "source": [
    "# **Control flow** \n",
    "Control flow is the concept of changing this order of code execution. Similar to the way you might use sale prices to decide which which car  to buy or seeing the colour of signal decide to start or stop."
   ]
  },
  {
   "cell_type": "code",
   "execution_count": 79,
   "metadata": {
    "colab": {
     "base_uri": "https://localhost:8080/"
    },
    "id": "88J6YUWBiIMD",
    "outputId": "8e43b36e-2b02-4360-8a1f-c378fe04b693"
   },
   "outputs": [
    {
     "name": "stdout",
     "output_type": "stream",
     "text": [
      "Light is Green\n",
      " Go Ahead \n"
     ]
    }
   ],
   "source": [
    "traffic_light = 'green'\n",
    "if traffic_light == 'green':\n",
    "    print('Light is Green')\n",
    "    print('Go Ahead ')\n",
    "else:\n",
    "    print('Light is Not Green')\n",
    "    print(' Stop ')"
   ]
  },
  {
   "cell_type": "code",
   "execution_count": 80,
   "metadata": {
    "colab": {
     "base_uri": "https://localhost:8080/"
    },
    "id": "zjj_TIdtidUD",
    "outputId": "c9b663db-41bd-4af7-b65f-08baa175c3d2"
   },
   "outputs": [
    {
     "name": "stdout",
     "output_type": "stream",
     "text": [
      "Light is Red\n"
     ]
    }
   ],
   "source": [
    "traffic_light = 'red'\n",
    "if traffic_light == 'green':\n",
    "    print('Light is Green')\n",
    "elif traffic_light=='yellow':\n",
    "    print('Light is Yellow')\n",
    "elif traffic_light=='red':\n",
    "    print('Light is Red')\n",
    "else:\n",
    "    print('Unknown Traffic Light')"
   ]
  },
  {
   "cell_type": "markdown",
   "metadata": {
    "id": "m36wxO5Yigd6"
   },
   "source": [
    "# **While Loop**\n",
    "A while statement executes a block of code as long as a condition is `True`.This continues until the condition is `False`."
   ]
  },
  {
   "cell_type": "code",
   "execution_count": 82,
   "metadata": {
    "id": "UZLHf7S-i5jo"
   },
   "outputs": [],
   "source": [
    "n = 0 "
   ]
  },
  {
   "cell_type": "code",
   "execution_count": 83,
   "metadata": {
    "colab": {
     "base_uri": "https://localhost:8080/"
    },
    "id": "rxMa3W5si5mn",
    "outputId": "44807786-4601-4837-cbfd-f46645b1d057"
   },
   "outputs": [
    {
     "name": "stdout",
     "output_type": "stream",
     "text": [
      "Value of n is 0\n",
      "Value of n is 1\n",
      "Value of n is 2\n",
      "Value of n is 3\n",
      "Value of n is 4\n",
      "Value of n is 5\n",
      "Value of n is 6\n",
      "Value of n is 7\n",
      "Value of n is 8\n",
      "Value of n is 9\n"
     ]
    }
   ],
   "source": [
    "while n<10:\n",
    "    print('Value of n is',n)\n",
    "    n=n+1"
   ]
  },
  {
   "cell_type": "markdown",
   "metadata": {
    "id": "KHxAQ6xKjCSK"
   },
   "source": [
    "# **For statements**\n",
    "Python’s for statement iterates over the items of any sequence. "
   ]
  },
  {
   "cell_type": "code",
   "execution_count": 84,
   "metadata": {
    "colab": {
     "base_uri": "https://localhost:8080/"
    },
    "id": "FXRPJpVgjYXi",
    "outputId": "1e442fcc-7a63-4098-d3e7-c6ab15a10b81"
   },
   "outputs": [
    {
     "name": "stdout",
     "output_type": "stream",
     "text": [
      "cat 3\n",
      "window 6\n",
      "defenestrate 12\n"
     ]
    }
   ],
   "source": [
    "words = ['cat', 'window', 'defenestrate']\n",
    "for w in words:\n",
    "    print(w,len(w))"
   ]
  },
  {
   "cell_type": "markdown",
   "metadata": {
    "id": "yRPlTSNqjh-k"
   },
   "source": [
    "### To iterate over a sequence of numbers, the built-in function range() comes in handy."
   ]
  },
  {
   "cell_type": "code",
   "execution_count": null,
   "metadata": {
    "id": "hBKp01cOji_V"
   },
   "outputs": [],
   "source": [
    "for i in range(5):\n",
    "    print(i,end=',')"
   ]
  },
  {
   "cell_type": "code",
   "execution_count": null,
   "metadata": {
    "id": "aUl6XPMwjltB"
   },
   "outputs": [],
   "source": [
    "for i in range(5,10):\n",
    "    print(i,end=',')"
   ]
  },
  {
   "cell_type": "code",
   "execution_count": 85,
   "metadata": {
    "colab": {
     "base_uri": "https://localhost:8080/"
    },
    "id": "BSzGHOtkjnlS",
    "outputId": "114a5c2e-f3f0-4c0e-897b-4ae31dbd4b84"
   },
   "outputs": [
    {
     "name": "stdout",
     "output_type": "stream",
     "text": [
      "5,7,9,"
     ]
    }
   ],
   "source": [
    "for i in range(5,10,2):\n",
    "    print(i,end=',')"
   ]
  },
  {
   "cell_type": "markdown",
   "metadata": {
    "id": "uXkT38fRj36X"
   },
   "source": [
    "# **break  and continue Statements**\n",
    "1.  break statement breaks out of innermost enclosing for or while loop.\n",
    "1.  continue statement continues with the next iteration of the loop skipping remaining statements.\n"
   ]
  },
  {
   "cell_type": "code",
   "execution_count": 86,
   "metadata": {
    "colab": {
     "base_uri": "https://localhost:8080/"
    },
    "id": "Yt7XFg4kkLum",
    "outputId": "e1127f78-8be1-4ad7-d638-27adc7123be6"
   },
   "outputs": [
    {
     "name": "stdout",
     "output_type": "stream",
     "text": [
      "0\n",
      "1\n",
      "2\n",
      "3\n"
     ]
    }
   ],
   "source": [
    "for i in range(5):\n",
    "    if i==4:\n",
    "        break\n",
    "    print(i)"
   ]
  },
  {
   "cell_type": "code",
   "execution_count": 87,
   "metadata": {
    "colab": {
     "base_uri": "https://localhost:8080/"
    },
    "id": "V5rvWy1vkTQ2",
    "outputId": "66d2bc1a-cd81-4307-ed31-a8c33c690ad9"
   },
   "outputs": [
    {
     "name": "stdout",
     "output_type": "stream",
     "text": [
      "0\n",
      "1\n",
      "3\n",
      "4\n"
     ]
    }
   ],
   "source": [
    "for i in range(5):\n",
    "    if i==2:\n",
    "        continue\n",
    "    print(i)"
   ]
  },
  {
   "cell_type": "markdown",
   "metadata": {
    "id": "0abkz1sgkf-W"
   },
   "source": [
    "# **Write and call/invoke a function**\n",
    "If its find that  the same bits of code is reused over and over, you can create your own function and call that instead of         repeating the same code."
   ]
  },
  {
   "cell_type": "code",
   "execution_count": 88,
   "metadata": {
    "id": "gs7QGi9Ek2KJ"
   },
   "outputs": [],
   "source": [
    "def check_odd_even(i):\n",
    "    if i%2==0:\n",
    "        print(i,'is even number')\n",
    "    else:\n",
    "        print(i,'is odd number')"
   ]
  },
  {
   "cell_type": "code",
   "execution_count": 89,
   "metadata": {
    "colab": {
     "base_uri": "https://localhost:8080/"
    },
    "id": "FCVseHlQlUfR",
    "outputId": "c0a5dfbb-ded4-485c-cb1c-97af8e95f455"
   },
   "outputs": [
    {
     "name": "stdout",
     "output_type": "stream",
     "text": [
      "10 is even number\n"
     ]
    }
   ],
   "source": [
    "check_odd_even(10)"
   ]
  },
  {
   "cell_type": "code",
   "execution_count": 90,
   "metadata": {
    "colab": {
     "base_uri": "https://localhost:8080/"
    },
    "id": "jiOX0o9QlWsd",
    "outputId": "4af9accb-e7cb-4e8f-a131-0110775104ab"
   },
   "outputs": [
    {
     "name": "stdout",
     "output_type": "stream",
     "text": [
      "11 is odd number\n"
     ]
    }
   ],
   "source": [
    "check_odd_even(11)"
   ]
  },
  {
   "cell_type": "markdown",
   "metadata": {
    "id": "diw9mvZWldaG"
   },
   "source": [
    "# **Default Value Argument**"
   ]
  },
  {
   "cell_type": "code",
   "execution_count": 91,
   "metadata": {
    "id": "5BdjDTkQlfv-"
   },
   "outputs": [],
   "source": [
    "def calc_intrest(principal,rates=5,duration=5):\n",
    "    intrest=(principal*rates*duration)/100\n",
    "    amount=intrest+principal\n",
    "    print('Principal Amount=',principal)\n",
    "    print('Rate=',rates)\n",
    "    print('Duration=',duration)\n",
    "    print('Total Amount=',amount)"
   ]
  },
  {
   "cell_type": "code",
   "execution_count": 92,
   "metadata": {
    "colab": {
     "base_uri": "https://localhost:8080/"
    },
    "id": "4gLAf-_eljel",
    "outputId": "93b89561-a7f5-46a6-9e23-204bf5f9ef24"
   },
   "outputs": [
    {
     "name": "stdout",
     "output_type": "stream",
     "text": [
      "Principal Amount= 10\n",
      "Rate= 5\n",
      "Duration= 5\n",
      "Total Amount= 12.5\n"
     ]
    }
   ],
   "source": [
    "calc_intrest(10)"
   ]
  },
  {
   "cell_type": "code",
   "execution_count": 93,
   "metadata": {
    "colab": {
     "base_uri": "https://localhost:8080/"
    },
    "id": "FSAk-R1jllj_",
    "outputId": "b7b32bca-ba66-41c1-d1a2-4b4e779fd538"
   },
   "outputs": [
    {
     "name": "stdout",
     "output_type": "stream",
     "text": [
      "Principal Amount= 10\n",
      "Rate= 10\n",
      "Duration= 5\n",
      "Total Amount= 15.0\n"
     ]
    }
   ],
   "source": [
    "calc_intrest(10,rates=10)"
   ]
  },
  {
   "cell_type": "code",
   "execution_count": 94,
   "metadata": {
    "colab": {
     "base_uri": "https://localhost:8080/"
    },
    "id": "dq0sdL8Llp8a",
    "outputId": "f9d4c255-881a-47f1-efc3-24ccb7ce3e95"
   },
   "outputs": [
    {
     "name": "stdout",
     "output_type": "stream",
     "text": [
      "Principal Amount= 10\n",
      "Rate= 10\n",
      "Duration= 20\n",
      "Total Amount= 30.0\n"
     ]
    }
   ],
   "source": [
    "calc_intrest(10,rates=10,duration=20)"
   ]
  },
  {
   "cell_type": "markdown",
   "metadata": {
    "id": "BE0PSUtllsM-"
   },
   "source": [
    "# Reading File"
   ]
  },
  {
   "cell_type": "code",
   "execution_count": null,
   "metadata": {
    "id": "mGkJTRPrlu9N"
   },
   "outputs": [],
   "source": [
    "f = open('workfile.txt','r')\n",
    "lines=f.read() # Entire file is read \n",
    "print(lines)\n",
    "f.close()"
   ]
  },
  {
   "cell_type": "code",
   "execution_count": null,
   "metadata": {
    "id": "PrXcPZjll0VG"
   },
   "outputs": [],
   "source": [
    "f = open('workfile.txt','r')\n",
    "for line in f:\n",
    "    print(line,end='')\n",
    "f.close()"
   ]
  },
  {
   "cell_type": "code",
   "execution_count": null,
   "metadata": {
    "id": "Por28t4Xl3Mt"
   },
   "outputs": [],
   "source": [
    "with open('workfile.txt','r')as f:\n",
    "    for line in f:\n",
    "        print(line,end='')"
   ]
  },
  {
   "cell_type": "markdown",
   "metadata": {
    "id": "sktW7ZQxl5eX"
   },
   "source": [
    "# Writing to file"
   ]
  },
  {
   "cell_type": "code",
   "execution_count": 97,
   "metadata": {
    "id": "NLfKADh0l7-V"
   },
   "outputs": [],
   "source": [
    "value = ('the answer is ', 42)\n",
    "with open('workfile2.txt','w') as f:\n",
    "    s=str(value)\n",
    "    f.write(s)"
   ]
  },
  {
   "cell_type": "code",
   "execution_count": null,
   "metadata": {
    "id": "rtOOFKUdl-D5"
   },
   "outputs": [],
   "source": []
  }
 ],
 "metadata": {
  "colab": {
   "name": "dlp_lec1.ipynb",
   "provenance": [],
   "toc_visible": true
  },
  "kernelspec": {
   "display_name": "Python 3",
   "language": "python",
   "name": "python3"
  },
  "language_info": {
   "codemirror_mode": {
    "name": "ipython",
    "version": 3
   },
   "file_extension": ".py",
   "mimetype": "text/x-python",
   "name": "python",
   "nbconvert_exporter": "python",
   "pygments_lexer": "ipython3",
   "version": "3.8.5"
  }
 },
 "nbformat": 4,
 "nbformat_minor": 1
}
